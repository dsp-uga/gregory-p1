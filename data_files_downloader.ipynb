{
 "cells": [
  {
   "cell_type": "code",
   "execution_count": 1,
   "metadata": {},
   "outputs": [],
   "source": [
    "import pandas as pd\n",
    "import requests\n",
    "\n",
    "set_name = \"X_small_train.txt\"\n",
    "url = 'https://storage.googleapis.com/uga-dsp/project1/files/' + set_name\n",
    "file_names = pd.read_csv(url, header=None)[0].to_numpy()"
   ]
  },
  {
   "cell_type": "code",
   "execution_count": 3,
   "metadata": {},
   "outputs": [],
   "source": [
    "import urllib3\n",
    "http = urllib3.PoolManager()\n",
    "\n",
    "base_url = \"https://storage.googleapis.com/uga-dsp/project1/data/bytes/\"\n",
    "\n",
    "for file_name in file_names:\n",
    "    filedata = http.request('GET', base_url + file_name + \".bytes\").data\n",
    "    with open('/home/dsp_team_gregory/gregory-p1/data/train/' + file_name + \".bytes\", 'wb') as f:\n",
    "        f.write(filedata)"
   ]
  },
  {
   "cell_type": "code",
   "execution_count": null,
   "metadata": {},
   "outputs": [],
   "source": []
  }
 ],
 "metadata": {
  "kernelspec": {
   "display_name": "Python 3",
   "language": "python",
   "name": "python3"
  },
  "language_info": {
   "codemirror_mode": {
    "name": "ipython",
    "version": 3
   },
   "file_extension": ".py",
   "mimetype": "text/x-python",
   "name": "python",
   "nbconvert_exporter": "python",
   "pygments_lexer": "ipython3",
   "version": "3.6.12"
  }
 },
 "nbformat": 4,
 "nbformat_minor": 5
}
