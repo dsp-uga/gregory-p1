{
 "cells": [
  {
   "cell_type": "markdown",
   "metadata": {},
   "source": [
    "Accessing dataframe from the main file"
   ]
  },
  {
   "cell_type": "code",
   "execution_count": 75,
   "metadata": {},
   "outputs": [],
   "source": [
    "%store -r final_dataframe"
   ]
  },
  {
   "cell_type": "code",
   "execution_count": 76,
   "metadata": {},
   "outputs": [],
   "source": [
    "import numpy as np\n",
    "import pandas as pd\n",
    "from pandas import DataFrame\n",
    "from math import sqrt\n",
    "from math import pi\n",
    "from math import exp\n",
    "import operator"
   ]
  },
  {
   "cell_type": "code",
   "execution_count": 77,
   "metadata": {},
   "outputs": [],
   "source": [
    "def display_object_method(obj):\n",
    "    object_methods = [method_name for method_name in dir(obj)\n",
    "                  if callable(getattr(obj, method_name))]\n",
    "    print(object_methods)"
   ]
  },
  {
   "cell_type": "markdown",
   "metadata": {},
   "source": [
    "Function that adds the target label to the dataframe for testing"
   ]
  },
  {
   "cell_type": "code",
   "execution_count": 78,
   "metadata": {},
   "outputs": [],
   "source": [
    "def addTargetLabelToDataset(df):\n",
    "    df['target'] = target_dataframe['target']\n",
    "    return df"
   ]
  },
  {
   "cell_type": "markdown",
   "metadata": {},
   "source": [
    "Function that seperates the dataframe by target values"
   ]
  },
  {
   "cell_type": "code",
   "execution_count": 79,
   "metadata": {},
   "outputs": [],
   "source": [
    "def seperate_by_target(df):\n",
    "    dataset_by_target = list()\n",
    "    for i in target_values:\n",
    "        dataset_by_target.append(df.loc[df['target'] == i])\n",
    "    return dataset_by_target"
   ]
  },
  {
   "cell_type": "code",
   "execution_count": 80,
   "metadata": {},
   "outputs": [],
   "source": [
    "# def calculate_stats(df):\n",
    "#     statistics_of_columns = []\n",
    "#     for column in df:\n",
    "#             new_d = [df[column].mean(),df[column].std(),len(df[column])]\n",
    "#             statistics_of_columns.append(new_d)\n",
    "#     del statistics_of_columns[-1]\n",
    "#     return statistics_of_columns"
   ]
  },
  {
   "cell_type": "code",
   "execution_count": 81,
   "metadata": {},
   "outputs": [],
   "source": [
    "# def calculate_probability(count, mean, stdev):\n",
    "#     x = target_values[count]\n",
    "#     exponent = exp(-((x-mean)**2 / (2 * stdev**2 )))\n",
    "#     return (1 / (sqrt(2 * pi) * stdev)) * exponent"
   ]
  },
  {
   "cell_type": "markdown",
   "metadata": {},
   "source": [
    "Function that gets the target counts from dataset seperated by target values"
   ]
  },
  {
   "cell_type": "code",
   "execution_count": 82,
   "metadata": {},
   "outputs": [],
   "source": [
    "def get_target_counts_dict():\n",
    "    target_count_dict = dict()\n",
    "    c = 0\n",
    "    for i in dataset_by_target:\n",
    "        target_count_dict[str(target_values[c])] = len(i)\n",
    "        c += 1\n",
    "    return target_count_dict"
   ]
  },
  {
   "cell_type": "markdown",
   "metadata": {},
   "source": [
    "Function to calculate mean"
   ]
  },
  {
   "cell_type": "code",
   "execution_count": 83,
   "metadata": {},
   "outputs": [],
   "source": [
    "def mean(numbers):\n",
    "    return sum(numbers)/float(len(numbers))"
   ]
  },
  {
   "cell_type": "markdown",
   "metadata": {},
   "source": [
    "Function to calculate standard deviation of list of numbers"
   ]
  },
  {
   "cell_type": "code",
   "execution_count": 84,
   "metadata": {},
   "outputs": [],
   "source": [
    "def stdev(numbers):\n",
    "    avg = mean(numbers)\n",
    "    variance = sum([(x-avg)**2 for x in numbers]) / float(len(numbers)-1)\n",
    "    return sqrt(variance)"
   ]
  },
  {
   "cell_type": "markdown",
   "metadata": {},
   "source": [
    "Function that creates list of statistical paramenters required for calculating probability at the end"
   ]
  },
  {
   "cell_type": "code",
   "execution_count": 85,
   "metadata": {},
   "outputs": [],
   "source": [
    "def summarize_dataset(dataset):\n",
    "    summaries = [(mean(column), stdev(column), len(column)) for column in zip(*dataset)]\n",
    "    del(summaries[-1])\n",
    "    return summaries"
   ]
  },
  {
   "cell_type": "markdown",
   "metadata": {},
   "source": [
    "Calculating the Gaussian probability distribution for every data"
   ]
  },
  {
   "cell_type": "code",
   "execution_count": 86,
   "metadata": {},
   "outputs": [],
   "source": [
    "def calculate_probability(x, mean, stdev):\n",
    "    exponent = exp(-((x-mean)**2 / (2 * stdev**2 )))\n",
    "    return (1 / (sqrt(2 * pi) * stdev)) * exponent\n",
    " "
   ]
  },
  {
   "cell_type": "code",
   "execution_count": 87,
   "metadata": {},
   "outputs": [],
   "source": [
    "# def calculate_class_probabilities(summaries, row):\n",
    "#     total_rows = sum([summaries[label][0][2] for label in summaries])\n",
    "#     probabilities = dict()\n",
    "#     for class_value, class_summaries in summaries.items():\n",
    "#         probabilities[class_value] = summaries[class_value][0][2]/float(total_rows)\n",
    "#         for i in range(len(class_summaries)):\n",
    "#             mean, stdev, _ = class_summaries[i]\n",
    "#             probabilities[class_value] *= calculate_probability(row[i], mean, stdev)\n",
    "#     return probabilities"
   ]
  },
  {
   "cell_type": "markdown",
   "metadata": {},
   "source": [
    "Calculating the probability of every target values"
   ]
  },
  {
   "cell_type": "code",
   "execution_count": 110,
   "metadata": {},
   "outputs": [],
   "source": [
    "def calculate_target_probility(dataset_by_target,row):\n",
    "    total_rows = len(df)\n",
    "    probabilities = dict()\n",
    "    # type(dataset_by_target[0])\n",
    "    label_count = 0;\n",
    "    for i in dataset_by_target:\n",
    "#         probabilities[i] = target_count_dict[str(i)] / float(total_rows)\n",
    "        probabilities[i] = dataset_by_target[str(i)][0][2]/float(total_rows)\n",
    "        innerlist = dataset_by_target[str(i)]\n",
    "        for j in range(len(innerlist)):\n",
    "            mean, stdev, _ = innerlist[j]\n",
    "            probabilities[i] *= calculate_probability(row[j],mean,stdev)\n",
    "    return probabilities"
   ]
  },
  {
   "cell_type": "markdown",
   "metadata": {},
   "source": [
    "Get maximum value from targets probabilities"
   ]
  },
  {
   "cell_type": "code",
   "execution_count": 111,
   "metadata": {},
   "outputs": [],
   "source": [
    "def getMaxFromDictionaryValues(dictionary):\n",
    "    return max(dictionary.items(), key=operator.itemgetter(1))[0]"
   ]
  },
  {
   "cell_type": "markdown",
   "metadata": {},
   "source": [
    "Using dataset from CSV for testing purpose"
   ]
  },
  {
   "cell_type": "code",
   "execution_count": 112,
   "metadata": {},
   "outputs": [],
   "source": [
    "os_path = '/home/dsp_team_gregory/gregory-p1/'\n",
    "df = pd.read_csv (os_path+'data/X_train.txt.csv')\n",
    "df.drop(df.columns[[0]], axis=1, inplace=True)"
   ]
  },
  {
   "cell_type": "code",
   "execution_count": 113,
   "metadata": {},
   "outputs": [],
   "source": [
    "# if using CSV dataset, then comment the below code\n",
    "# df = final_dataframe"
   ]
  },
  {
   "cell_type": "markdown",
   "metadata": {},
   "source": [
    "Reading target value from text file"
   ]
  },
  {
   "cell_type": "code",
   "execution_count": 114,
   "metadata": {},
   "outputs": [],
   "source": [
    "target_dataframe = pd.read_csv('https://storage.googleapis.com/uga-dsp/project1/files/y_train.txt', sep=\" \", header=None)\n",
    "target_dataframe.columns = ['target']"
   ]
  },
  {
   "cell_type": "markdown",
   "metadata": {},
   "source": [
    "Converting the target label to the dataframe and converting it to list for probability computuation"
   ]
  },
  {
   "cell_type": "code",
   "execution_count": 115,
   "metadata": {},
   "outputs": [],
   "source": [
    "df = addTargetLabelToDataset(df)\n",
    "df_list = df.values.tolist()\n",
    "for row in range(len(df_list)):\n",
    "    df_list[row][len(df_list[row]) - 1] = int(df_list[row][len(df_list[row]) - 1])"
   ]
  },
  {
   "cell_type": "markdown",
   "metadata": {},
   "source": [
    "Getting the target values for classification"
   ]
  },
  {
   "cell_type": "code",
   "execution_count": 116,
   "metadata": {},
   "outputs": [],
   "source": [
    "target_values = df.target.unique()\n"
   ]
  },
  {
   "cell_type": "markdown",
   "metadata": {},
   "source": [
    "Create a dictionary containing dataset by target values"
   ]
  },
  {
   "cell_type": "code",
   "execution_count": 117,
   "metadata": {},
   "outputs": [],
   "source": [
    "dataset_by_target_dict = dict()\n",
    "for target in target_values:\n",
    "    temp = list()\n",
    "    for row in range(len(df_list)):\n",
    "        if(target == df_list[row][len(df_list[target]) - 1]):\n",
    "            temp.append(df_list[row])\n",
    "    dataset_by_target_dict[str(target)] = temp"
   ]
  },
  {
   "cell_type": "code",
   "execution_count": 118,
   "metadata": {},
   "outputs": [],
   "source": [
    "# target_count_dict = get_target_counts_dict()"
   ]
  },
  {
   "cell_type": "markdown",
   "metadata": {},
   "source": [
    "Creating a dictionary that stores statistical values like mean, standard deviation for every row by target values"
   ]
  },
  {
   "cell_type": "code",
   "execution_count": 119,
   "metadata": {},
   "outputs": [],
   "source": [
    "statistics_by_targets = dict()\n",
    "for class_value, rows in dataset_by_target_dict.items():\n",
    "    statistics_by_targets[class_value] = summarize_dataset(rows)\n",
    "# innerlist = statistics_by_targets['2']"
   ]
  },
  {
   "cell_type": "markdown",
   "metadata": {},
   "source": [
    "Creating a list of probabilites for every row and finally getting the maximum value and assigning it's target"
   ]
  },
  {
   "cell_type": "code",
   "execution_count": 121,
   "metadata": {},
   "outputs": [],
   "source": [
    "probability_list = list()\n",
    "for i in range(len(df_list)):\n",
    "    probabilities = calculate_target_probility(statistics_by_targets, df_list[i])\n",
    "    max_value = getMaxFromDictionaryValues(probabilities)\n",
    "    probability_list.append(max_value)"
   ]
  },
  {
   "cell_type": "markdown",
   "metadata": {},
   "source": [
    "Writing the result to the file"
   ]
  },
  {
   "cell_type": "code",
   "execution_count": 124,
   "metadata": {},
   "outputs": [],
   "source": [
    "with open(os_path+'data/output.txt', 'w') as f:\n",
    "    for item in probability_list:\n",
    "        f.write(\"%s\\n\" % item)"
   ]
  }
 ],
 "metadata": {
  "kernelspec": {
   "display_name": "Python 3",
   "language": "python",
   "name": "python3"
  },
  "language_info": {
   "codemirror_mode": {
    "name": "ipython",
    "version": 3
   },
   "file_extension": ".py",
   "mimetype": "text/x-python",
   "name": "python",
   "nbconvert_exporter": "python",
   "pygments_lexer": "ipython3",
   "version": "3.6.12"
  }
 },
 "nbformat": 4,
 "nbformat_minor": 4
}
