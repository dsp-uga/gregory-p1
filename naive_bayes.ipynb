{
 "cells": [
  {
   "cell_type": "code",
   "execution_count": 258,
   "metadata": {},
   "outputs": [],
   "source": [
    "# %store -r final_dataframe"
   ]
  },
  {
   "cell_type": "code",
   "execution_count": 518,
   "metadata": {},
   "outputs": [],
   "source": [
    "import numpy as np\n",
    "import pandas as pd\n",
    "from pandas import DataFrame\n",
    "from math import sqrt\n",
    "from math import pi\n",
    "from math import exp\n",
    "import operator"
   ]
  },
  {
   "cell_type": "code",
   "execution_count": 519,
   "metadata": {},
   "outputs": [],
   "source": [
    "def display_object_method(obj):\n",
    "    object_methods = [method_name for method_name in dir(obj)\n",
    "                  if callable(getattr(obj, method_name))]\n",
    "    print(object_methods)"
   ]
  },
  {
   "cell_type": "code",
   "execution_count": 520,
   "metadata": {},
   "outputs": [],
   "source": [
    "def addTargetLabelToDataset(df):\n",
    "    df['target'] = target_dataframe['target']\n",
    "    return df"
   ]
  },
  {
   "cell_type": "code",
   "execution_count": 521,
   "metadata": {},
   "outputs": [],
   "source": [
    "def seperate_by_target(df):\n",
    "    dataset_by_target = list()\n",
    "    for i in target_values:\n",
    "        dataset_by_target.append(df.loc[df['target'] == i])\n",
    "    return dataset_by_target"
   ]
  },
  {
   "cell_type": "code",
   "execution_count": 522,
   "metadata": {},
   "outputs": [],
   "source": [
    "def calculate_stats(df):\n",
    "    statistics_of_columns = []\n",
    "    for column in df:\n",
    "            new_d = [df[column].mean(),df[column].std(),len(df[column])]\n",
    "            statistics_of_columns.append(new_d)\n",
    "    del statistics_of_columns[-1]\n",
    "    return statistics_of_columns"
   ]
  },
  {
   "cell_type": "code",
   "execution_count": 523,
   "metadata": {},
   "outputs": [],
   "source": [
    "def calculate_probability(count, mean, stdev):\n",
    "    x = target_values[count]\n",
    "    exponent = exp(-((x-mean)**2 / (2 * stdev**2 )))\n",
    "    return (1 / (sqrt(2 * pi) * stdev)) * exponent"
   ]
  },
  {
   "cell_type": "code",
   "execution_count": 524,
   "metadata": {},
   "outputs": [],
   "source": [
    "def get_target_counts_dict():\n",
    "    target_count_dict = dict()\n",
    "    c = 0\n",
    "    for i in dataset_by_target:\n",
    "        target_count_dict[str(target_values[c])] = len(i)\n",
    "        c += 1\n",
    "    return target_count_dict"
   ]
  },
  {
   "cell_type": "code",
   "execution_count": 536,
   "metadata": {},
   "outputs": [],
   "source": [
    "# helper functions\n",
    "def mean(numbers):\n",
    "\treturn sum(numbers)/float(len(numbers))\n",
    " # Calculate the standard deviation of a list of numbers\n",
    "def stdev(numbers):\n",
    "\tavg = mean(numbers)\n",
    "\tvariance = sum([(x-avg)**2 for x in numbers]) / float(len(numbers)-1)\n",
    "\treturn sqrt(variance)\n",
    "def summarize_dataset(dataset):\n",
    "\tsummaries = [(mean(column), stdev(column), len(column)) for column in zip(*dataset)]\n",
    "\tdel(summaries[-1])\n",
    "\treturn summaries\n",
    "# Calculate the Gaussian probability distribution function for x\n",
    "def calculate_probability(x, mean, stdev):\n",
    "\texponent = exp(-((x-mean)**2 / (2 * stdev**2 )))\n",
    "\treturn (1 / (sqrt(2 * pi) * stdev)) * exponent\n",
    " \n",
    "def calculate_class_probabilities(summaries, row):\n",
    "\ttotal_rows = sum([summaries[label][0][2] for label in summaries])\n",
    "\tprobabilities = dict()\n",
    "\tfor class_value, class_summaries in summaries.items():\n",
    "\t\tprobabilities[class_value] = summaries[class_value][0][2]/float(total_rows)\n",
    "\t\tfor i in range(len(class_summaries)):\n",
    "\t\t\tmean, stdev, _ = class_summaries[i]\n",
    "\t\t\tprobabilities[class_value] *= calculate_probability(row[i], mean, stdev)\n",
    "\treturn probabilities\n"
   ]
  },
  {
   "cell_type": "code",
   "execution_count": 532,
   "metadata": {},
   "outputs": [],
   "source": [
    "def coke(dataset_by_target,row):\n",
    "    total_rows = len(df)\n",
    "    probabilities = dict()\n",
    "    # type(dataset_by_target[0])\n",
    "    label_count = 0;\n",
    "    for i in dataset_by_target:\n",
    "        probabilities[i] = target_count_dict[str(i)] / float(total_rows)\n",
    "        innerlist = dataset_by_target[str(i)]\n",
    "        for j in range(len(innerlist)):\n",
    "            mean, stdev, _ = innerlist[j]\n",
    "            probabilities[i] *= calculate_probability(row[j],mean,stdev)\n",
    "    return probabilities"
   ]
  },
  {
   "cell_type": "code",
   "execution_count": 533,
   "metadata": {},
   "outputs": [],
   "source": [
    "def getMaxFromDictionaryValues(dictionary):\n",
    "    return max(dictionary.items(), key=operator.itemgetter(1))[0]"
   ]
  },
  {
   "cell_type": "code",
   "execution_count": 526,
   "metadata": {},
   "outputs": [],
   "source": [
    "os_path = '/home/dsp_team_gregory/gregory-p1/'\n",
    "df = pd.read_csv (os_path+'data/X_train.txt.csv')\n",
    "df.drop(df.columns[[0]], axis=1, inplace=True)"
   ]
  },
  {
   "cell_type": "code",
   "execution_count": 527,
   "metadata": {},
   "outputs": [],
   "source": [
    "target_dataframe = pd.read_csv('https://storage.googleapis.com/uga-dsp/project1/files/y_train.txt', sep=\" \", header=None)\n",
    "target_dataframe.columns = ['target']"
   ]
  },
  {
   "cell_type": "code",
   "execution_count": 528,
   "metadata": {},
   "outputs": [],
   "source": [
    "df = addTargetLabelToDataset(df)\n",
    "# display(df.dtypes)\n",
    "df_list = df.values.tolist()\n",
    "for i in range(len(df_list)):\n",
    "    r = len(df_list[i]) - 1\n",
    "    df_list[i][len(df_list[i]) - 1] = int(df_list[i][len(df_list[i]) - 1])\n",
    "\n"
   ]
  },
  {
   "cell_type": "code",
   "execution_count": 529,
   "metadata": {},
   "outputs": [],
   "source": [
    "target_values = df.target.unique()"
   ]
  },
  {
   "cell_type": "code",
   "execution_count": 530,
   "metadata": {},
   "outputs": [],
   "source": [
    "dataset_by_target_dict = dict()\n",
    "for i in target_values:\n",
    "    temp = list()\n",
    "    for j in range(len(df_list)):\n",
    "        if(i == df_list[j][len(df_list[i]) - 1]):\n",
    "            temp.append(df_list[j])\n",
    "    dataset_by_target_dict[str(i)] = temp"
   ]
  },
  {
   "cell_type": "code",
   "execution_count": 531,
   "metadata": {},
   "outputs": [],
   "source": [
    "summaries = dict()\n",
    "for class_value, rows in dataset_by_target_dict.items():\n",
    "    summaries[class_value] = summarize_dataset(rows)\n",
    "\n",
    "innerlist = summaries['2']"
   ]
  },
  {
   "cell_type": "code",
   "execution_count": 535,
   "metadata": {},
   "outputs": [
    {
     "name": "stdout",
     "output_type": "stream",
     "text": [
      "1\n"
     ]
    }
   ],
   "source": [
    "probabilities = coke(summaries, df_list[0])\n",
    "max_value = getMaxFromDictionaryValues(probabilities)\n",
    "print(max_value)"
   ]
  },
  {
   "cell_type": "code",
   "execution_count": null,
   "metadata": {},
   "outputs": [],
   "source": []
  }
 ],
 "metadata": {
  "kernelspec": {
   "display_name": "Python 3",
   "language": "python",
   "name": "python3"
  },
  "language_info": {
   "codemirror_mode": {
    "name": "ipython",
    "version": 3
   },
   "file_extension": ".py",
   "mimetype": "text/x-python",
   "name": "python",
   "nbconvert_exporter": "python",
   "pygments_lexer": "ipython3",
   "version": "3.6.12"
  }
 },
 "nbformat": 4,
 "nbformat_minor": 4
}
