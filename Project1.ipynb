{
 "cells": [
  {
   "cell_type": "code",
   "execution_count": 111,
   "id": "polyphonic-certificate",
   "metadata": {},
   "outputs": [],
   "source": [
    "import dask.bag as db\n",
    "import dask.array as da\n",
    "import dask.dataframe as df\n",
    "import math\n",
    "import pandas as pd\n",
    "import numpy as np\n",
    "import requests"
   ]
  },
  {
   "cell_type": "markdown",
   "id": "timely-greenhouse",
   "metadata": {},
   "source": [
    "Helper function that displays all the functions that can be invoked on an object."
   ]
  },
  {
   "cell_type": "code",
   "execution_count": 112,
   "id": "foreign-atlantic",
   "metadata": {},
   "outputs": [],
   "source": [
    "def display_object_method(obj):\n",
    "    object_methods = [method_name for method_name in dir(obj)\n",
    "                  if callable(getattr(obj, method_name))]\n",
    "    print(object_methods)"
   ]
  },
  {
   "cell_type": "code",
   "execution_count": 113,
   "id": "oriental-preserve",
   "metadata": {},
   "outputs": [],
   "source": [
    "def get_split_words(word_bag):    \n",
    "    split_words = word_bag.str.split()\n",
    "    stripped_words = split_words.flatten().map(lambda x: x.strip())\n",
    "    word_array = stripped_words.filter(lambda x: x!= \"\")\n",
    "    return word_array"
   ]
  },
  {
   "cell_type": "code",
   "execution_count": 114,
   "id": "accepting-chinese",
   "metadata": {},
   "outputs": [],
   "source": [
    "def get_filtered_words(words):\n",
    "    stopwords = open(\"data/stopwords.txt\", \"r\").read().split(\"\\n\")\n",
    "    return words.filter(lambda x: x not in stopwords)"
   ]
  },
  {
   "cell_type": "code",
   "execution_count": 115,
   "id": "auburn-conversion",
   "metadata": {},
   "outputs": [],
   "source": [
    "def get_words_for_document(document):\n",
    "    word_bag = db.read_text(document)\n",
    "    split_words = get_split_words(word_bag)\n",
    "    long_words = split_words.filter(lambda x: len(x) < 3)\n",
    "#     words_without_punctuations = long_words.map(puntuation_stripper)\n",
    "    return get_filtered_words(long_words)    \n",
    "#     return long_words"
   ]
  },
  {
   "cell_type": "code",
   "execution_count": 116,
   "id": "productive-chamber",
   "metadata": {},
   "outputs": [],
   "source": [
    "def get_IDF(words_by_document):\n",
    "    unique_words = []\n",
    "    for words_for_single_document in words_by_document:\n",
    "        unique_words.append(words_for_single_document.distinct())\n",
    "    large_bag = db.concat(unique_words)\n",
    "    frequencies = large_bag.frequencies()\n",
    "    idf = frequencies.map(lambda x: (x[0], math.log((len(words_by_document) + 1)/x[1])))\n",
    "    return idf"
   ]
  },
  {
   "cell_type": "code",
   "execution_count": 117,
   "id": "composite-shore",
   "metadata": {},
   "outputs": [],
   "source": [
    "def get_TF_IDF(tf, idf):\n",
    "    tf = tf.frequencies()\n",
    "    joined_sets = idf.join(tf, lambda x: x[0], lambda x: x[0])\n",
    "    computed_tf_idf = joined_sets.map(lambda x: (x[0][0], x[0][1] * x[1][1], 0))\n",
    "    concated = db.concat([idf, computed_tf_idf])\n",
    "    folded = concated.foldby(lambda x: x[0], lambda x,y: x[1] if len(x) == 3 else y[1])\n",
    "    array_format = folded.map(lambda x: x[1][1] if isinstance(x[1], tuple) else x[1])\n",
    "    return array_format"
   ]
  },
  {
   "cell_type": "code",
   "execution_count": 118,
   "id": "chinese-territory",
   "metadata": {},
   "outputs": [],
   "source": [
    "set_name = \"X_small_train.txt\"\n",
    "# set_name = \"X_train.txt\"\n",
    "# url = 'https://storage.googleapis.com/uga-dsp/project1/files/' + set_name\n",
    "url = \"data/train/\" + set_name\n",
    "file_names = pd.read_csv(url, header=None)[0].to_numpy()"
   ]
  },
  {
   "cell_type": "code",
   "execution_count": 119,
   "id": "deluxe-correction",
   "metadata": {},
   "outputs": [],
   "source": [
    "all_file_words = []\n",
    "for file_name in file_names:\n",
    "#     file_name = \"https://storage.googleapis.com/uga-dsp/project1/data/bytes/\" + file_name + \".bytes\"\n",
    "    file_name = \"data/train/\" + file_name + \".bytes\"\n",
    "    all_file_words.append(get_words_for_document(file_name))\n",
    "idf = get_IDF(all_file_words)"
   ]
  },
  {
   "cell_type": "code",
   "execution_count": 120,
   "id": "analyzed-conspiracy",
   "metadata": {},
   "outputs": [],
   "source": [
    "idf = idf.topk(256, key=0)"
   ]
  },
  {
   "cell_type": "code",
   "execution_count": null,
   "id": "superb-imperial",
   "metadata": {},
   "outputs": [],
   "source": [
    "cols = np.arange(256).astype(str)\n",
    "pd_df = pd.DataFrame(columns=cols)\n",
    "\n",
    "tf_idf_df = df.from_pandas(pd_df, npartitions=1)\n",
    "\n",
    "for file_words in all_file_words:\n",
    "    tf_idf_bag_array = get_TF_IDF(file_words, idf)\n",
    "    tf_idf_pandas = pd.DataFrame(data=[tf_idf_array], columns=cols)\n",
    "    pandas_to_dask = df.from_pandas(tf_idf_pandas, npartitions=1)\n",
    "    tf_idf_df = tf_idf_df.append(pandas_to_dask)"
   ]
  },
  {
   "cell_type": "code",
   "execution_count": 109,
   "id": "roman-headset",
   "metadata": {},
   "outputs": [],
   "source": [
    "final_dataframe = tf_idf_df.compute()"
   ]
  },
  {
   "cell_type": "code",
   "execution_count": 110,
   "id": "metallic-bread",
   "metadata": {},
   "outputs": [
    {
     "data": {
      "text/html": [
       "<div>\n",
       "<style scoped>\n",
       "    .dataframe tbody tr th:only-of-type {\n",
       "        vertical-align: middle;\n",
       "    }\n",
       "\n",
       "    .dataframe tbody tr th {\n",
       "        vertical-align: top;\n",
       "    }\n",
       "\n",
       "    .dataframe thead th {\n",
       "        text-align: right;\n",
       "    }\n",
       "</style>\n",
       "<table border=\"1\" class=\"dataframe\">\n",
       "  <thead>\n",
       "    <tr style=\"text-align: right;\">\n",
       "      <th></th>\n",
       "      <th>0</th>\n",
       "      <th>1</th>\n",
       "      <th>2</th>\n",
       "      <th>3</th>\n",
       "      <th>4</th>\n",
       "      <th>5</th>\n",
       "      <th>6</th>\n",
       "      <th>7</th>\n",
       "      <th>8</th>\n",
       "      <th>9</th>\n",
       "      <th>...</th>\n",
       "      <th>246</th>\n",
       "      <th>247</th>\n",
       "      <th>248</th>\n",
       "      <th>249</th>\n",
       "      <th>250</th>\n",
       "      <th>251</th>\n",
       "      <th>252</th>\n",
       "      <th>253</th>\n",
       "      <th>254</th>\n",
       "      <th>255</th>\n",
       "    </tr>\n",
       "  </thead>\n",
       "  <tbody>\n",
       "    <tr>\n",
       "      <th>0</th>\n",
       "      <td>0.287682</td>\n",
       "      <td>0.693147</td>\n",
       "      <td>0.693147</td>\n",
       "      <td>0.693147</td>\n",
       "      <td>0.693147</td>\n",
       "      <td>0.693147</td>\n",
       "      <td>0.693147</td>\n",
       "      <td>0.693147</td>\n",
       "      <td>0.693147</td>\n",
       "      <td>0.693147</td>\n",
       "      <td>...</td>\n",
       "      <td>0.693147</td>\n",
       "      <td>0.287682</td>\n",
       "      <td>0.693147</td>\n",
       "      <td>0.287682</td>\n",
       "      <td>0.693147</td>\n",
       "      <td>0.693147</td>\n",
       "      <td>0.693147</td>\n",
       "      <td>0.693147</td>\n",
       "      <td>0.693147</td>\n",
       "      <td>2.589139</td>\n",
       "    </tr>\n",
       "    <tr>\n",
       "      <th>0</th>\n",
       "      <td>0.287682</td>\n",
       "      <td>0.693147</td>\n",
       "      <td>0.693147</td>\n",
       "      <td>0.693147</td>\n",
       "      <td>0.693147</td>\n",
       "      <td>0.693147</td>\n",
       "      <td>0.693147</td>\n",
       "      <td>0.693147</td>\n",
       "      <td>0.693147</td>\n",
       "      <td>0.693147</td>\n",
       "      <td>...</td>\n",
       "      <td>0.693147</td>\n",
       "      <td>0.287682</td>\n",
       "      <td>0.693147</td>\n",
       "      <td>0.287682</td>\n",
       "      <td>0.693147</td>\n",
       "      <td>0.693147</td>\n",
       "      <td>0.693147</td>\n",
       "      <td>0.693147</td>\n",
       "      <td>0.693147</td>\n",
       "      <td>2.589139</td>\n",
       "    </tr>\n",
       "    <tr>\n",
       "      <th>0</th>\n",
       "      <td>0.287682</td>\n",
       "      <td>0.693147</td>\n",
       "      <td>0.693147</td>\n",
       "      <td>0.693147</td>\n",
       "      <td>0.693147</td>\n",
       "      <td>0.693147</td>\n",
       "      <td>0.693147</td>\n",
       "      <td>0.693147</td>\n",
       "      <td>0.693147</td>\n",
       "      <td>0.693147</td>\n",
       "      <td>...</td>\n",
       "      <td>0.693147</td>\n",
       "      <td>0.287682</td>\n",
       "      <td>0.693147</td>\n",
       "      <td>0.287682</td>\n",
       "      <td>0.693147</td>\n",
       "      <td>0.693147</td>\n",
       "      <td>0.693147</td>\n",
       "      <td>0.693147</td>\n",
       "      <td>0.693147</td>\n",
       "      <td>2.589139</td>\n",
       "    </tr>\n",
       "  </tbody>\n",
       "</table>\n",
       "<p>3 rows × 256 columns</p>\n",
       "</div>"
      ],
      "text/plain": [
       "          0         1         2         3         4         5         6  \\\n",
       "0  0.287682  0.693147  0.693147  0.693147  0.693147  0.693147  0.693147   \n",
       "0  0.287682  0.693147  0.693147  0.693147  0.693147  0.693147  0.693147   \n",
       "0  0.287682  0.693147  0.693147  0.693147  0.693147  0.693147  0.693147   \n",
       "\n",
       "          7         8         9  ...       246       247       248       249  \\\n",
       "0  0.693147  0.693147  0.693147  ...  0.693147  0.287682  0.693147  0.287682   \n",
       "0  0.693147  0.693147  0.693147  ...  0.693147  0.287682  0.693147  0.287682   \n",
       "0  0.693147  0.693147  0.693147  ...  0.693147  0.287682  0.693147  0.287682   \n",
       "\n",
       "        250       251       252       253       254       255  \n",
       "0  0.693147  0.693147  0.693147  0.693147  0.693147  2.589139  \n",
       "0  0.693147  0.693147  0.693147  0.693147  0.693147  2.589139  \n",
       "0  0.693147  0.693147  0.693147  0.693147  0.693147  2.589139  \n",
       "\n",
       "[3 rows x 256 columns]"
      ]
     },
     "execution_count": 110,
     "metadata": {},
     "output_type": "execute_result"
    }
   ],
   "source": [
    "final_dataframe"
   ]
  },
  {
   "cell_type": "code",
   "execution_count": null,
   "id": "artificial-discipline",
   "metadata": {},
   "outputs": [],
   "source": []
  },
  {
   "cell_type": "code",
   "execution_count": null,
   "id": "municipal-modern",
   "metadata": {},
   "outputs": [],
   "source": []
  }
 ],
 "metadata": {
  "kernelspec": {
   "display_name": "Python 3",
   "language": "python",
   "name": "python3"
  },
  "language_info": {
   "codemirror_mode": {
    "name": "ipython",
    "version": 3
   },
   "file_extension": ".py",
   "mimetype": "text/x-python",
   "name": "python",
   "nbconvert_exporter": "python",
   "pygments_lexer": "ipython3",
   "version": "3.7.9"
  }
 },
 "nbformat": 4,
 "nbformat_minor": 5
}
