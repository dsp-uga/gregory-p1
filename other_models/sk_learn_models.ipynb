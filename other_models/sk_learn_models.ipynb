{
 "cells": [
  {
   "cell_type": "code",
   "execution_count": 1,
   "metadata": {},
   "outputs": [],
   "source": [
    "import pandas as pd\n",
    "import numpy as np"
   ]
  },
  {
   "cell_type": "code",
   "execution_count": 2,
   "metadata": {},
   "outputs": [],
   "source": [
    "def get_small_dataset():\n",
    "    X_train = pd.read_csv(\"/home/dsp_team_gregory/gregory-p1/data/X_small_train.txt.csv\",  index_col=0)\n",
    "    y_train = pd.read_csv(\"https://storage.googleapis.com/uga-dsp/project1/files/y_small_train.txt\", header=None).to_numpy().flatten()\n",
    "\n",
    "    X_test = pd.read_csv(\"/home/dsp_team_gregory/gregory-p1/data/X_small_test.txt.csv\",  index_col=0)\n",
    "    y_test = pd.read_csv(\"https://storage.googleapis.com/uga-dsp/project1/files/y_small_test.txt\", header=None).to_numpy().flatten()\n",
    "    return X_train, y_train, X_test, y_test"
   ]
  },
  {
   "cell_type": "code",
   "execution_count": 3,
   "metadata": {},
   "outputs": [],
   "source": [
    "def get_real_dataset():\n",
    "    X_train = pd.read_csv(\"/home/dsp_team_gregory/gregory-p1/data/X_train.txt.csv\",  index_col=0)\n",
    "    y_train = pd.read_csv(\"https://storage.googleapis.com/uga-dsp/project1/files/y_train.txt\", header=None).to_numpy().flatten()\n",
    "\n",
    "    X_test = pd.read_csv(\"/home/dsp_team_gregory/gregory-p1/data/X_test.txt.csv\",  index_col=0)\n",
    "    y_test = False\n",
    "    return X_train, y_train, X_test, y_test"
   ]
  },
  {
   "cell_type": "code",
   "execution_count": 120,
   "metadata": {},
   "outputs": [],
   "source": [
    "from sklearn.linear_model import SGDClassifier\n",
    "\n",
    "def getSGD():\n",
    "    clf = SGDClassifier(loss=\"squared_hinge\", max_iter=150)\n",
    "    return clf"
   ]
  },
  {
   "cell_type": "code",
   "execution_count": 69,
   "metadata": {},
   "outputs": [],
   "source": [
    "from sklearn.linear_model import LogisticRegression\n",
    "\n",
    "def getLR():\n",
    "    clf = LogisticRegression(max_iter=35)\n",
    "    return clf"
   ]
  },
  {
   "cell_type": "code",
   "execution_count": 77,
   "metadata": {},
   "outputs": [],
   "source": [
    "from sklearn.linear_model import LogisticRegressionCV\n",
    "\n",
    "def getLRCV():\n",
    "    clf = LogisticRegressionCV(multi_class='multinomial')\n",
    "    return clf"
   ]
  },
  {
   "cell_type": "code",
   "execution_count": 36,
   "metadata": {},
   "outputs": [],
   "source": [
    "from sklearn.ensemble import GradientBoostingClassifier\n",
    "\n",
    "def getGBC():\n",
    "    clf = GradientBoostingClassifier(learning_rate=0.01, max_depth=1)\n",
    "    return clf"
   ]
  },
  {
   "cell_type": "code",
   "execution_count": 66,
   "metadata": {},
   "outputs": [],
   "source": [
    "from sklearn.svm import LinearSVC\n",
    "from sklearn.pipeline import make_pipeline\n",
    "from sklearn.preprocessing import StandardScaler\n",
    "def getSVC():\n",
    "    clf = make_pipeline(StandardScaler(), LinearSVC(multi_class='crammer_singer'))\n",
    "    return clf"
   ]
  },
  {
   "cell_type": "code",
   "execution_count": 14,
   "metadata": {},
   "outputs": [],
   "source": [
    "from sklearn.metrics import accuracy_score\n",
    "\n",
    "def classify(clf, X_train, y_train, X_test, y_test):\n",
    "    clf.fit(X_train, y_train)\n",
    "    y_pred = clf.predict(X_test)\n",
    "    if isinstance(y_test, np.ndarray):\n",
    "        print(accuracy_score(y_test, y_pred))\n",
    "    return y_pred"
   ]
  },
  {
   "cell_type": "code",
   "execution_count": 143,
   "metadata": {},
   "outputs": [],
   "source": [
    "from sklearn.gaussian_process import GaussianProcessClassifier\n",
    "from sklearn.gaussian_process.kernels import RBF\n",
    "\n",
    "def getGP():\n",
    "    clf =  GaussianProcessClassifier(1.0 * RBF(1.0), max_iter_predict=100)\n",
    "    return clf"
   ]
  },
  {
   "cell_type": "code",
   "execution_count": 15,
   "metadata": {},
   "outputs": [],
   "source": [
    "def save_to_text(array, file_name=\"LR_prediction.txt\"):\n",
    "    prefix = \"/home/dsp_team_gregory/gregory-p1/other_models/\"\n",
    "    np.savetxt(prefix + file_name, array.astype(str),fmt = '%s')"
   ]
  },
  {
   "cell_type": "code",
   "execution_count": 129,
   "metadata": {},
   "outputs": [],
   "source": [
    "X_train, y_train, X_test, y_test = get_small_dataset()\n",
    "# X_train, y_train, X_test, y_test = get_real_dataset()"
   ]
  },
  {
   "cell_type": "code",
   "execution_count": 59,
   "metadata": {},
   "outputs": [],
   "source": [
    "LR_clf = getLR()\n",
    "LR_pred = classify(LR_clf, X_train, y_train, X_test, y_test)"
   ]
  },
  {
   "cell_type": "code",
   "execution_count": 80,
   "metadata": {},
   "outputs": [],
   "source": [
    "LRCV_clf = getLR()\n",
    "LRCV_pred = classify(LRCV_clf, X_train, y_train, X_test, y_test)"
   ]
  },
  {
   "cell_type": "code",
   "execution_count": 126,
   "metadata": {},
   "outputs": [],
   "source": [
    "SGD_clf = getSGD()\n",
    "SGD_pred = classify(SGD_clf, X_train, y_train, X_test, y_test)"
   ]
  },
  {
   "cell_type": "code",
   "execution_count": 37,
   "metadata": {},
   "outputs": [
    {
     "name": "stdout",
     "output_type": "stream",
     "text": [
      "0.650887573964497\n"
     ]
    }
   ],
   "source": [
    "GBC_clf = getGBC()\n",
    "GBC_pred = classify(GBC_clf, X_train, y_train, X_test, y_test)"
   ]
  },
  {
   "cell_type": "code",
   "execution_count": 67,
   "metadata": {},
   "outputs": [
    {
     "name": "stdout",
     "output_type": "stream",
     "text": [
      "0.727810650887574\n"
     ]
    }
   ],
   "source": [
    "SVC_clf = getSVC()\n",
    "SVC_pred = classify(SVC_clf, X_train, y_train, X_test, y_test)"
   ]
  },
  {
   "cell_type": "code",
   "execution_count": 144,
   "metadata": {},
   "outputs": [
    {
     "name": "stdout",
     "output_type": "stream",
     "text": [
      "0.6627218934911243\n"
     ]
    }
   ],
   "source": [
    "GP_clf = getGP()\n",
    "GP_pred = classify(GP_clf, X_train, y_train, X_test, y_test)"
   ]
  },
  {
   "cell_type": "code",
   "execution_count": 127,
   "metadata": {},
   "outputs": [],
   "source": [
    "save_to_text(SGD_pred, \"SGD_prediction.txt\")"
   ]
  },
  {
   "cell_type": "code",
   "execution_count": 60,
   "metadata": {},
   "outputs": [],
   "source": [
    "save_to_text(LR_pred, \"LR_prediction.txt\")"
   ]
  },
  {
   "cell_type": "code",
   "execution_count": 81,
   "metadata": {},
   "outputs": [],
   "source": [
    "save_to_text(LRCV_pred, \"LRCV_prediction.txt\")"
   ]
  },
  {
   "cell_type": "code",
   "execution_count": null,
   "metadata": {},
   "outputs": [],
   "source": []
  }
 ],
 "metadata": {
  "kernelspec": {
   "display_name": "Python 3",
   "language": "python",
   "name": "python3"
  },
  "language_info": {
   "codemirror_mode": {
    "name": "ipython",
    "version": 3
   },
   "file_extension": ".py",
   "mimetype": "text/x-python",
   "name": "python",
   "nbconvert_exporter": "python",
   "pygments_lexer": "ipython3",
   "version": "3.6.12"
  }
 },
 "nbformat": 4,
 "nbformat_minor": 2
}
